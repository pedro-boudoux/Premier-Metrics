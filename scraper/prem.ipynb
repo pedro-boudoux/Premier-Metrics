{
 "cells": [
  {
   "cell_type": "markdown",
   "id": "54109870",
   "metadata": {},
   "source": [
    "Code for scraping EPL Table and Squad Stats"
   ]
  },
  {
   "cell_type": "code",
   "execution_count": 1,
   "id": "bd9987e8",
   "metadata": {},
   "outputs": [],
   "source": [
    "import pandas as pd"
   ]
  },
  {
   "cell_type": "markdown",
   "id": "29b495d3",
   "metadata": {},
   "source": [
    "Read Premier League table from "
   ]
  },
  {
   "cell_type": "code",
   "execution_count": null,
   "id": "cbff7716",
   "metadata": {},
   "outputs": [],
   "source": [
    "epl_table = pd.read_html('https://fbref.com/en/comps/9/Premier-League-Stats', attrs={'id' : 'results2024-202591_overall'})\n",
    "epl_table[0]\n"
   ]
  },
  {
   "cell_type": "markdown",
   "id": "c034a2e2",
   "metadata": {},
   "source": [
    "Get rid of \"Notes\" column"
   ]
  },
  {
   "cell_type": "code",
   "execution_count": null,
   "id": "78eefd8b",
   "metadata": {},
   "outputs": [],
   "source": [
    "# Remove the 'Notes' column from the first DataFrame if it exists\n",
    "epl_table = epl_table[0]\n",
    "if 'Notes' in epl_table.columns:\n",
    "    epl_table = epl_table.drop(columns=['Notes'])\n",
    "epl_table"
   ]
  },
  {
   "cell_type": "code",
   "execution_count": 17,
   "id": "cf2e7c9b",
   "metadata": {},
   "outputs": [],
   "source": [
    "\n",
    "# Save the cleaned EPL table to a CSV file in tables/\n",
    "epl_table.to_csv('tables/epl_table.csv', index=False)\n"
   ]
  }
 ],
 "metadata": {
  "kernelspec": {
   "display_name": "Python 3",
   "language": "python",
   "name": "python3"
  },
  "language_info": {
   "codemirror_mode": {
    "name": "ipython",
    "version": 3
   },
   "file_extension": ".py",
   "mimetype": "text/x-python",
   "name": "python",
   "nbconvert_exporter": "python",
   "pygments_lexer": "ipython3",
   "version": "3.13.3"
  }
 },
 "nbformat": 4,
 "nbformat_minor": 5
}
