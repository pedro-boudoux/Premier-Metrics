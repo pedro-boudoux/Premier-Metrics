{
 "cells": [
  {
   "cell_type": "markdown",
   "id": "0b470ecd",
   "metadata": {},
   "source": [
    "Import necessary libraries"
   ]
  },
  {
   "cell_type": "code",
   "execution_count": 8,
   "id": "d56adcb6",
   "metadata": {},
   "outputs": [],
   "source": [
    "import pandas as pd\n",
    "import time\n",
    "import random\n",
    "import os\n",
    "import logging\n",
    "from selenium import webdriver\n",
    "from selenium.webdriver.chrome.options import Options\n",
    "from selenium.webdriver.chrome.service import Service\n",
    "from webdriver_manager.chrome import ChromeDriverManager\n",
    "from selenium.webdriver.common.by import By\n",
    "from selenium.webdriver.support.ui import WebDriverWait\n",
    "from selenium.webdriver.support import expected_conditions as EC"
   ]
  },
  {
   "cell_type": "markdown",
   "id": "6e4e37f1",
   "metadata": {},
   "source": [
    "Set up logging"
   ]
  },
  {
   "cell_type": "code",
   "execution_count": 9,
   "id": "2eeeac31",
   "metadata": {},
   "outputs": [],
   "source": [
    "logging.basicConfig(level=logging.INFO, format='%(asctime)s - %(levelname)s - %(message)s')\n",
    "logger = logging.getLogger(__name__)"
   ]
  },
  {
   "cell_type": "markdown",
   "id": "24ee1884",
   "metadata": {},
   "source": [
    "Team Class"
   ]
  },
  {
   "cell_type": "code",
   "execution_count": 10,
   "id": "6b310df6",
   "metadata": {},
   "outputs": [],
   "source": [
    "class Team:\n",
    "    def __init__(self, name):\n",
    "        self.name = name\n",
    "        self.advanced_goalkeeping = None\n",
    "        self.defensive_actions = None\n",
    "        self.goalkeeping = None\n",
    "        self.goal_and_shot_creation = None\n",
    "        self.misc_stats = None\n",
    "        self.passing = None\n",
    "        self.pass_types = None\n",
    "        self.player_summaries = None\n",
    "        self.playing_time = None\n",
    "        self.possession = None\n",
    "        self.shooting = None\n",
    "        self.html_content = None  # Store the HTML content"
   ]
  },
  {
   "cell_type": "markdown",
   "id": "86fd50fd",
   "metadata": {},
   "source": [
    "Team Names"
   ]
  },
  {
   "cell_type": "code",
   "execution_count": 11,
   "id": "20eb6f5b",
   "metadata": {},
   "outputs": [],
   "source": [
    "teams = [\n",
    "    \"Liverpool\", \"Arsenal\", \"Newcastle-United\", \"Manchester-City\", \"Chelsea\",\n",
    "    \"Aston-Villa\", \"Nottingham-Forest\", \"Brentford\", \"Brighton\", \"Bournemouth\",\n",
    "    \"Fulham\", \"Crystal-Palace\", \"Everton\", \"Wolves\", \"West-Ham\",\n",
    "    \"Manchester-United\", \"Tottenham\", \"Ipswich-Town\", \"Leicester-City\", \"Southampton\"\n",
    "]"
   ]
  },
  {
   "cell_type": "markdown",
   "id": "c72a5eb2",
   "metadata": {},
   "source": [
    "Create Team objects"
   ]
  },
  {
   "cell_type": "code",
   "execution_count": 12,
   "id": "470987b5",
   "metadata": {},
   "outputs": [],
   "source": [
    "team_dict = {name: Team(name) for name in teams}"
   ]
  },
  {
   "cell_type": "markdown",
   "id": "bb941a20",
   "metadata": {},
   "source": [
    "FBREF Team IDs"
   ]
  },
  {
   "cell_type": "code",
   "execution_count": 13,
   "id": "7ac9df85",
   "metadata": {},
   "outputs": [],
   "source": [
    "team_ids = {\n",
    "    \"Liverpool\": \"822bd0ba\",\n",
    "    \"Arsenal\": \"18bb7c10\",\n",
    "    \"Newcastle-United\": \"b2b47a98\",  \n",
    "    \"Manchester-City\": \"b8fd03ef\",\n",
    "    \"Chelsea\": \"cff3d9bb\",\n",
    "    \"Aston-Villa\": \"8602292d\",\n",
    "    \"Nottingham-Forest\": \"e4a775cb\",\n",
    "    \"Brentford\": \"cd051869\",\n",
    "    \"Brighton\": \"d07537b9\",\n",
    "    \"Bournemouth\": \"4ba7cbea\",\n",
    "    \"Fulham\": \"fd962109\",\n",
    "    \"Crystal-Palace\": \"47c64c55\",\n",
    "    \"Everton\": \"d3fd31cc\",\n",
    "    \"Wolves\": \"8cec06e1\",\n",
    "    \"West-Ham\": \"7c21e445\",\n",
    "    \"Manchester-United\": \"19538871\",  \n",
    "    \"Tottenham\": \"361ca564\",\n",
    "    \"Ipswich-Town\": \"b74092de\",\n",
    "    \"Leicester-City\": \"a2d435b3\",\n",
    "    \"Southampton\": \"33c895d4\"\n",
    "}"
   ]
  },
  {
   "cell_type": "markdown",
   "id": "0d72da04",
   "metadata": {},
   "source": [
    "Stat table IDs on FBref"
   ]
  },
  {
   "cell_type": "code",
   "execution_count": 14,
   "id": "b04fa0bb",
   "metadata": {},
   "outputs": [],
   "source": [
    "stat_ids = {\n",
    "    \"advanced_goalkeeping\": \"stats_keeper_adv_9\",\n",
    "    \"defensive_actions\": \"stats_defense_9\",\n",
    "    \"goalkeeping\": \"stats_keeper_9\",\n",
    "    \"goal_and_shot_creation\": \"stats_gca_9\",\n",
    "    \"misc_stats\": \"stats_misc_9\",\n",
    "    \"passing\": \"stats_passing_9\",\n",
    "    \"pass_types\": \"stats_passing_types_9\",\n",
    "    \"player_summaries\": \"stats_standard_9\",\n",
    "    \"playing_time\": \"stats_playing_time_9\",\n",
    "    \"possession\": \"stats_possession_9\",\n",
    "    \"shooting\": \"stats_shooting_9\"\n",
    "}"
   ]
  },
  {
   "cell_type": "markdown",
   "id": "421c99bc",
   "metadata": {},
   "source": [
    "Function to create cache directory if it doesn't exist"
   ]
  },
  {
   "cell_type": "code",
   "execution_count": 15,
   "id": "b0f675b2",
   "metadata": {},
   "outputs": [],
   "source": [
    "def ensure_cache_dir():\n",
    "    cache_dir = \"fbref_cache\"\n",
    "    if not os.path.exists(cache_dir):\n",
    "        os.makedirs(cache_dir)\n",
    "    return cache_dir"
   ]
  },
  {
   "cell_type": "markdown",
   "id": "d01482dd",
   "metadata": {},
   "source": [
    "Function to check if cached data exists"
   ]
  },
  {
   "cell_type": "code",
   "execution_count": 16,
   "id": "da44490f",
   "metadata": {},
   "outputs": [],
   "source": [
    "def get_cached_html(team_name, cache_dir):\n",
    "    cache_file = os.path.join(cache_dir, f\"{team_name}.html\")\n",
    "    if os.path.exists(cache_file):\n",
    "        with open(cache_file, 'r', encoding='utf-8') as f:\n",
    "            return f.read()\n",
    "    return None"
   ]
  },
  {
   "cell_type": "markdown",
   "id": "2a43c581",
   "metadata": {},
   "source": [
    "Function to save HTML to cache"
   ]
  },
  {
   "cell_type": "code",
   "execution_count": 17,
   "id": "df71b264",
   "metadata": {},
   "outputs": [],
   "source": [
    "def save_to_cache(team_name, html_content, cache_dir):\n",
    "    cache_file = os.path.join(cache_dir, f\"{team_name}.html\")\n",
    "    with open(cache_file, 'w', encoding='utf-8') as f:\n",
    "        f.write(html_content)\n"
   ]
  },
  {
   "cell_type": "markdown",
   "id": "b3502943",
   "metadata": {},
   "source": [
    "Function to extract tables from HTML content"
   ]
  },
  {
   "cell_type": "code",
   "execution_count": 18,
   "id": "d6f76962",
   "metadata": {},
   "outputs": [],
   "source": [
    "\n",
    "def extract_tables_from_html(html_content, team_name):\n",
    "    tables = {}\n",
    "    for attr, table_id in stat_ids.items():\n",
    "        try:\n",
    "            # Find tables using pandas read_html with specific attributes\n",
    "            dfs = pd.read_html(html_content, attrs={\"id\": table_id})\n",
    "            if dfs:\n",
    "                tables[attr] = dfs[0]\n",
    "                #logger.info(f\"  ✓ {attr}\")\n",
    "            else:\n",
    "                logger.warning(f\"  ✗ Table {table_id} not found for {team_name}\")\n",
    "                tables[attr] = None\n",
    "        except Exception as e:\n",
    "            logger.error(f\"  ✗ Failed to extract {attr} for {team_name}: {e}\")\n",
    "            tables[attr] = None\n",
    "    \n",
    "    return tables"
   ]
  },
  {
   "cell_type": "markdown",
   "id": "bc5923a1",
   "metadata": {},
   "source": [
    "Initialize Selenium WebDriver"
   ]
  },
  {
   "cell_type": "code",
   "execution_count": 19,
   "id": "e6e39a7c",
   "metadata": {},
   "outputs": [],
   "source": [
    "# Function to initialize Selenium WebDriver\n",
    "def setup_driver():\n",
    "    options = Options()\n",
    "    options.add_argument(\"--headless\")  # Run in headless mode\n",
    "    options.add_argument(\"--no-sandbox\")\n",
    "    options.add_argument(\"--disable-dev-shm-usage\")\n",
    "    options.add_argument(\"--disable-gpu\")\n",
    "    options.add_argument(\"--window-size=1920,1080\")  # Set window size\n",
    "    options.add_argument(\"--user-agent=Mozilla/5.0 (Windows NT 10.0; Win64; x64) AppleWebKit/537.36 (KHTML, like Gecko) Chrome/96.0.4664.110 Safari/537.36\")\n",
    "    \n",
    "    # Initialize WebDriver\n",
    "    driver = webdriver.Chrome(service=Service(ChromeDriverManager().install()), options=options)\n",
    "    return driver"
   ]
  },
  {
   "cell_type": "markdown",
   "id": "cb4d97fa",
   "metadata": {},
   "source": [
    "Fetch HTML for each team once and extract all needed tables"
   ]
  },
  {
   "cell_type": "code",
   "execution_count": 20,
   "id": "f6847792",
   "metadata": {},
   "outputs": [],
   "source": [
    "def fetch_and_process_teams():\n",
    "    # Create cache directory\n",
    "    cache_dir = ensure_cache_dir()\n",
    "    \n",
    "    # Initialize the WebDriver\n",
    "    driver = setup_driver()\n",
    "    \n",
    "    try:\n",
    "        # Track how many teams we've fetched from web (excluding cached) for implementing breaks\n",
    "        web_requests_count = 0\n",
    "        \n",
    "        for team_name, team_id in team_ids.items():\n",
    "            logger.info(f\"\\nProcessing {team_name}...\")\n",
    "            \n",
    "            # Check cache first\n",
    "            cached_html = get_cached_html(team_name, cache_dir)\n",
    "            \n",
    "            if cached_html:\n",
    "                #logger.info(f\"Using cached data for {team_name}\")\n",
    "                html_content = cached_html\n",
    "            else:\n",
    "                url = f\"https://fbref.com/en/squads/{team_id}/{team_name}-Stats\"\n",
    "                logger.info(f\"Fetching HTML from {url}\")\n",
    "                \n",
    "                try:\n",
    "                    # Navigate to the URL\n",
    "                    driver.get(url)\n",
    "                    \n",
    "                    # Wait for the page to load completely\n",
    "                    WebDriverWait(driver, 20).until(\n",
    "                        EC.presence_of_element_located((By.ID, \"meta\"))\n",
    "                    )\n",
    "                    \n",
    "                    # Add some random scrolling to mimic human behavior\n",
    "                    scroll_amount = random.randint(300, 1000)\n",
    "                    driver.execute_script(f\"window.scrollTo(0, {scroll_amount});\")\n",
    "                    time.sleep(random.uniform(1.0, 2.0))\n",
    "                    \n",
    "                    # Get the page source\n",
    "                    html_content = driver.page_source\n",
    "                    \n",
    "                    # Save to cache\n",
    "                    save_to_cache(team_name, html_content, cache_dir)\n",
    "                    \n",
    "                    # Increment web requests counter - ONLY count actual web requests\n",
    "                    web_requests_count += 1\n",
    "                    \n",
    "                    # Take a 3-minute break after every 5 web requests (but only if more teams remain)\n",
    "                    if web_requests_count % 5 == 0 and team_name != teams[-1]:\n",
    "                        break_minutes = 3\n",
    "                        logger.info(f\"\\n==== Taking a {break_minutes}-minute break after {web_requests_count} web requests ====\")\n",
    "                        time.sleep(break_minutes * 60)  # Convert minutes to seconds\n",
    "                        logger.info(\"==== Break complete, continuing with next team ====\\n\")\n",
    "                    else:\n",
    "                        # Be nice to the server with a longer random delay between requests\n",
    "                        delay = random.uniform(15.0, 25.0)\n",
    "                        logger.info(f\"Waiting {delay:.2f} seconds before next request...\")\n",
    "                        time.sleep(delay)\n",
    "                    \n",
    "                except Exception as e:\n",
    "                    logger.error(f\"Failed to fetch data for {team_name}: {e}\")\n",
    "                    continue\n",
    "            \n",
    "            # Store the HTML content in the Team object\n",
    "            team_dict[team_name].html_content = html_content\n",
    "            \n",
    "            # Extract all tables from the HTML content\n",
    "            tables = extract_tables_from_html(html_content, team_name)\n",
    "            \n",
    "            # Assign tables to team attributes\n",
    "            for attr, df in tables.items():\n",
    "                setattr(team_dict[team_name], attr, df)\n",
    "    \n",
    "    finally:\n",
    "        # Always close the driver\n",
    "        driver.quit()"
   ]
  },
  {
   "cell_type": "markdown",
   "id": "b2f30554",
   "metadata": {},
   "source": [
    "Runs the Scraper"
   ]
  },
  {
   "cell_type": "code",
   "execution_count": null,
   "id": "74ce26db",
   "metadata": {},
   "outputs": [],
   "source": [
    "# Run the scraper\n",
    "if __name__ == \"__main__\":\n",
    "    try:\n",
    "        fetch_and_process_teams()\n",
    "        \n",
    "        # Example of accessing data:\n",
    "        logger.info(\"\\nExample data access:\")\n",
    "        sample_team = teams[0]\n",
    "        if team_dict[sample_team].player_summaries is not None:\n",
    "            logger.info(f\"{sample_team} player summaries preview:\")\n",
    "            logger.info(team_dict[sample_team].player_summaries.head())\n",
    "            \n",
    "            # Save as CSV example\n",
    "            sample_team_df = team_dict[sample_team].player_summaries\n",
    "            sample_team_df.to_csv(f\"{sample_team}_player_summaries.csv\", index=False)\n",
    "            #logger.info(f\"Saved {sample_team} player summaries to CSV\")\n",
    "            \n",
    "    except Exception as e:\n",
    "        logger.error(f\"Error in main execution: {e}\")"
   ]
  },
  {
   "cell_type": "markdown",
   "id": "118c83ad",
   "metadata": {},
   "source": [
    "Flatten Tables"
   ]
  },
  {
   "cell_type": "code",
   "execution_count": 25,
   "id": "43785916",
   "metadata": {},
   "outputs": [],
   "source": [
    "def flatten_header(df):\n",
    "    if isinstance(df.columns, pd.MultiIndex):\n",
    "        # Drop upper-level column headers like \"Unnamed\" and keep only the meaningful ones\n",
    "        new_columns = []\n",
    "        for upper, lower in df.columns:\n",
    "            if \"Unnamed\" in upper or upper.strip() == \"\":\n",
    "                new_columns.append(lower.strip())\n",
    "            else:\n",
    "                new_columns.append(lower.strip())\n",
    "        df.columns = new_columns\n",
    "\n",
    "    # Clean up country code columns like \"br BRA\" → \"BRA\"\n",
    "    for col in df.columns:\n",
    "        if df[col].dtype == \"object\":\n",
    "            df[col] = df[col].apply(\n",
    "                lambda x: x.split()[-1] if isinstance(x, str) and len(x.split()) == 2 else x\n",
    "            )\n",
    "\n",
    "    return df\n",
    "\n",
    "\n"
   ]
  },
  {
   "cell_type": "markdown",
   "id": "154a9cd5",
   "metadata": {},
   "source": [
    "Save each table"
   ]
  },
  {
   "cell_type": "code",
   "execution_count": null,
   "id": "2cc7519c",
   "metadata": {},
   "outputs": [],
   "source": [
    "def save_all_tables(team_dict):\n",
    "    base_dir = \"tables\"\n",
    "    base_dir = os.path.normpath(base_dir)  # Ensure no trailing slashes\n",
    "\n",
    "    for stat_name in stat_ids.keys():\n",
    "        stat_folder = os.path.join(base_dir, stat_name)\n",
    "        os.makedirs(stat_folder, exist_ok=True)\n",
    "\n",
    "        for team_name, team in team_dict.items():\n",
    "            df = getattr(team, stat_name)\n",
    "            if df is not None:\n",
    "                df = flatten_header(df)\n",
    "                filename = f\"{team_name.replace('-', '_')}-{stat_name}.csv\"\n",
    "                filepath = os.path.normpath(os.path.join(stat_folder, filename))\n",
    "                try:\n",
    "                    df.to_csv(filepath, index=False)\n",
    "                    logger.info(f\"Saved: {filepath}\")\n",
    "                except Exception as e:\n",
    "                    logger.error(f\"Failed to save {filepath}: {e}\")\n"
   ]
  },
  {
   "cell_type": "code",
   "execution_count": 28,
   "id": "e663ecda",
   "metadata": {},
   "outputs": [
    {
     "ename": "AttributeError",
     "evalue": "'DataFrame' object has no attribute 'dtype'",
     "output_type": "error",
     "traceback": [
      "\u001b[31m---------------------------------------------------------------------------\u001b[39m",
      "\u001b[31mAttributeError\u001b[39m                            Traceback (most recent call last)",
      "\u001b[32m~\\AppData\\Local\\Temp\\ipykernel_37152\\2574755333.py\u001b[39m in \u001b[36m?\u001b[39m\u001b[34m()\u001b[39m\n\u001b[32m----> \u001b[39m\u001b[32m1\u001b[39m save_all_tables(team_dict)\n",
      "\u001b[32m~\\AppData\\Local\\Temp\\ipykernel_37152\\3430002412.py\u001b[39m in \u001b[36m?\u001b[39m\u001b[34m(team_dict)\u001b[39m\n\u001b[32m      7\u001b[39m \n\u001b[32m      8\u001b[39m         \u001b[38;5;28;01mfor\u001b[39;00m team_name, team \u001b[38;5;28;01min\u001b[39;00m team_dict.items():\n\u001b[32m      9\u001b[39m             df = getattr(team, stat_name)\n\u001b[32m     10\u001b[39m             \u001b[38;5;28;01mif\u001b[39;00m df \u001b[38;5;28;01mis\u001b[39;00m \u001b[38;5;28;01mnot\u001b[39;00m \u001b[38;5;28;01mNone\u001b[39;00m:\n\u001b[32m---> \u001b[39m\u001b[32m11\u001b[39m                 df = flatten_header(df)  \u001b[38;5;66;03m# Flatten multi-index header if needed\u001b[39;00m\n\u001b[32m     12\u001b[39m                 filename = f\"{team_name.replace(\u001b[33m'-'\u001b[39m, \u001b[33m'_'\u001b[39m)}-{stat_name}.csv\"\n\u001b[32m     13\u001b[39m                 filepath = os.path.join(stat_folder, filename)\n\u001b[32m     14\u001b[39m                 \u001b[38;5;28;01mtry\u001b[39;00m:\n",
      "\u001b[32m~\\AppData\\Local\\Temp\\ipykernel_37152\\4080692879.py\u001b[39m in \u001b[36m?\u001b[39m\u001b[34m(df)\u001b[39m\n\u001b[32m     10\u001b[39m         df.columns = new_columns\n\u001b[32m     11\u001b[39m \n\u001b[32m     12\u001b[39m     \u001b[38;5;66;03m# Clean up country code columns like \"br BRA\" → \"BRA\"\u001b[39;00m\n\u001b[32m     13\u001b[39m     \u001b[38;5;28;01mfor\u001b[39;00m col \u001b[38;5;28;01min\u001b[39;00m df.columns:\n\u001b[32m---> \u001b[39m\u001b[32m14\u001b[39m         \u001b[38;5;28;01mif\u001b[39;00m df[col].dtype == \u001b[33m\"object\"\u001b[39m:\n\u001b[32m     15\u001b[39m             df[col] = df[col].apply(\n\u001b[32m     16\u001b[39m                 \u001b[38;5;28;01mlambda\u001b[39;00m x: x.split()[-\u001b[32m1\u001b[39m] \u001b[38;5;28;01mif\u001b[39;00m isinstance(x, str) \u001b[38;5;28;01mand\u001b[39;00m len(x.split()) == \u001b[32m2\u001b[39m \u001b[38;5;28;01melse\u001b[39;00m x\n\u001b[32m     17\u001b[39m             )\n",
      "\u001b[32mc:\\Users\\pebou\\AppData\\Local\\Programs\\Python\\Python313\\Lib\\site-packages\\pandas\\core\\generic.py\u001b[39m in \u001b[36m?\u001b[39m\u001b[34m(self, name)\u001b[39m\n\u001b[32m   6295\u001b[39m             \u001b[38;5;28;01mand\u001b[39;00m name \u001b[38;5;28;01mnot\u001b[39;00m \u001b[38;5;28;01min\u001b[39;00m self._accessors\n\u001b[32m   6296\u001b[39m             \u001b[38;5;28;01mand\u001b[39;00m self._info_axis._can_hold_identifiers_and_holds_name(name)\n\u001b[32m   6297\u001b[39m         ):\n\u001b[32m   6298\u001b[39m             \u001b[38;5;28;01mreturn\u001b[39;00m self[name]\n\u001b[32m-> \u001b[39m\u001b[32m6299\u001b[39m         \u001b[38;5;28;01mreturn\u001b[39;00m object.__getattribute__(self, name)\n",
      "\u001b[31mAttributeError\u001b[39m: 'DataFrame' object has no attribute 'dtype'"
     ]
    }
   ],
   "source": [
    "save_all_tables(team_dict)"
   ]
  }
 ],
 "metadata": {
  "kernelspec": {
   "display_name": "Python 3",
   "language": "python",
   "name": "python3"
  },
  "language_info": {
   "codemirror_mode": {
    "name": "ipython",
    "version": 3
   },
   "file_extension": ".py",
   "mimetype": "text/x-python",
   "name": "python",
   "nbconvert_exporter": "python",
   "pygments_lexer": "ipython3",
   "version": "3.13.3"
  }
 },
 "nbformat": 4,
 "nbformat_minor": 5
}
